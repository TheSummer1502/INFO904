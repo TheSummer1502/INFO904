{
 "cells": [
  {
   "cell_type": "markdown",
   "id": "f3520f4ff4b4f589",
   "metadata": {
    "collapsed": false
   },
   "source": [
    "# TP en Traitement Automatique du Langage Naturel: Classification de Sentiments sur des Critiques de Films\n",
    "\n",
    "## Objectif\n",
    "L'objectif de ce TP est de développer un système de classification de sentiments utilisant des critiques de films. Vous utiliserez un ensemble de données IMDb et appliqueront un modèle K-Nearest Neighbors (KNN) pour classer les critiques en catégories positives ou négatives.\n",
    "\n",
    "## Partie 1: Traitement des Textes\n",
    "1. **Preprocess**: Appliquer un preprocess si besoin\n",
    "1. **Vectorisation**: Transformez les documents textuels en vecteurs numériques en utilisant `TfidfVectorizer`.\n",
    "\n",
    "## Partie 3: Modélisation\n",
    "1. **Construction du Modèle KNN**: Créez un modèle KNN\n",
    "2. **Entraînement du Modèle**: Entraînez le modèle sur l'ensemble d'entraînement.\n",
    "\n",
    "## Partie 4: Évaluation\n",
    "1. **Prédiction et Classification**: Utilisez le modèle pour prédire les sentiments sur l'ensemble de test.\n",
    "2. **Rapport de Classification**: Générez un rapport de classification pour évaluer la performance du modèle.\n",
    "\n",
    "## Questions\n",
    "1. Comment la réduction du nombre de caractéristiques (`max_features`) affecte-t-elle la performance du modèle ?\n",
    "2. Quel impact a le choix du nombre de voisins dans KNN sur les résultats ?\n",
    "3. Comparez les performances du modèle KNN avec un autre classificateur (par exemple, [Naive Bayes](https://scikit-learn.org/stable/modules/naive_bayes.html) ou [SVM](https://scikit-learn.org/stable/modules/generated/sklearn.svm.LinearSVC.html#sklearn.svm.LinearSVC). Lequel performe mieux et pourquoi ?\n",
    "4. Le preprocessing améliore t-il la clasification ?\n",
    "\n",
    "## Ressources\n",
    "- [IMDb Dataset](https://huggingface.co/datasets/imdb)\n",
    "- [Scikit-learn Documentation](https://scikit-learn.org/stable/)"
   ]
  },
  {
   "cell_type": "code",
   "execution_count": 15,
   "id": "15ccbdee81a84e54",
   "metadata": {
    "collapsed": false
   },
   "outputs": [
    {
     "name": "stdout",
     "output_type": "stream",
     "text": [
      "Collecting plotly\n",
      "  Downloading plotly-5.18.0-py3-none-any.whl.metadata (7.0 kB)\n",
      "Collecting tenacity>=6.2.0 (from plotly)\n",
      "  Downloading tenacity-8.2.3-py3-none-any.whl.metadata (1.0 kB)\n",
      "Requirement already satisfied: packaging in ./env/lib/python3.11/site-packages (from plotly) (23.2)\n",
      "Downloading plotly-5.18.0-py3-none-any.whl (15.6 MB)\n",
      "\u001b[2K   \u001b[38;2;114;156;31m━━━━━━━━━━━━━━━━━━━━━━━━━━━━━━━━━━━━━━━━\u001b[0m \u001b[32m15.6/15.6 MB\u001b[0m \u001b[31m1.9 MB/s\u001b[0m eta \u001b[36m0:00:00\u001b[0mm eta \u001b[36m0:00:01\u001b[0m[36m0:00:01\u001b[0mm\n",
      "\u001b[?25hDownloading tenacity-8.2.3-py3-none-any.whl (24 kB)\n",
      "Installing collected packages: tenacity, plotly\n",
      "Successfully installed plotly-5.18.0 tenacity-8.2.3\n"
     ]
    }
   ],
   "source": [
    "# !pip install -q -U datasets scikit-learn\n",
    "# !pip install matplotlib seaborn spacy\n",
    "# !python -m spacy download en_core_web_sm\n",
    "# !pip install plotly"
   ]
  },
  {
   "cell_type": "markdown",
   "id": "157cc0a1",
   "metadata": {},
   "source": [
    "## Chargement du dataset"
   ]
  },
  {
   "cell_type": "code",
   "execution_count": 35,
   "id": "9bf4b70f36e01ec2",
   "metadata": {
    "ExecuteTime": {
     "start_time": "2024-02-08T08:04:59.124588100Z"
    },
    "collapsed": false,
    "is_executing": true
   },
   "outputs": [],
   "source": [
    "from datasets import load_dataset\n",
    "from sklearn.feature_extraction.text import TfidfVectorizer\n",
    "from sklearn.neighbors import KNeighborsClassifier\n",
    "from sklearn.metrics import classification_report\n",
    "\n",
    "# On split plusieur fois le dataset afin de réduire le temps de calcule\n",
    "dataset = load_dataset(\"imdb\", split=\"train\")\n",
    "dataset = dataset.train_test_split(stratify_by_column=\"label\", test_size=0.3, seed=42)\n",
    "dataset = dataset['train'].train_test_split(stratify_by_column=\"label\", test_size=0.3, seed=42)"
   ]
  },
  {
   "cell_type": "markdown",
   "id": "78cdff71",
   "metadata": {},
   "source": [
    "## Visualisation du dataset"
   ]
  },
  {
   "cell_type": "code",
   "execution_count": 36,
   "id": "25161cd1",
   "metadata": {},
   "outputs": [
    {
     "data": {
      "text/plain": [
       "DatasetDict({\n",
       "    train: Dataset({\n",
       "        features: ['text', 'label'],\n",
       "        num_rows: 12250\n",
       "    })\n",
       "    test: Dataset({\n",
       "        features: ['text', 'label'],\n",
       "        num_rows: 5250\n",
       "    })\n",
       "})"
      ]
     },
     "execution_count": 36,
     "metadata": {},
     "output_type": "execute_result"
    }
   ],
   "source": [
    "dataset"
   ]
  },
  {
   "cell_type": "code",
   "execution_count": 37,
   "id": "76525179",
   "metadata": {},
   "outputs": [
    {
     "data": {
      "text/plain": [
       "['I quote Oedpius Rex because it is a tragedy that this film was even made!!!<br /><br />This is one of the worst movies I have ever seen! I am in no way an Uwe Boll hater like most of the humourless people on IMDb! <br /><br />Uwe Boll movies like Postal and Tunnel Rats are hilariously bad and therefore entertaining. But honestly, this movie was just horrible. I hated it so much that I\\'d give it a zero star rating if I could. The story is just crap! It spends four fifths of the film building the plot and then they have the middle which is just scenes of grizzly horrible tastelessly done murder! The finally end it with a \"villan wins ending\" which is totally acceptable but surely it could have been more tasteful than this! <br /><br />I am not against Uwe Boll (like I said earlier) nor am I against violent movies! I f**king love violent movies! I loved the Saw movies, the Hostel movies, Tokyo Gore Police, The New York Ripper, the 28 movies, Dog Soldiers, My Bloody Valentine, Last House on the Left, Watchmen, Wolf Creek, every Tarantino movie, every Sam Peckinpah, even Cannibal f**king Holocaust! But this! OMFG!!! <br /><br />This was just cruel, sadistic and perverted! And look at the movies I just listed! If I liked Cannibal Holocaust and not this then it must be bad! Uwe, don\\'t go all dark again! You\\'re funny when you are light hearted, just like Ed Wood. This was just an awful experience! I felt horrible all over after seeing this!<br /><br />DO NOT WATCH!!!! AVOID AT ALL COST!!!!!',\n",
       " 'Greetings again from the darkness. What ever happened to the great Barry Levinson? He directed two of my all-time favorites in \"Avalon\" and \"Diner\". He had some fine movies as well (\"Rainman\"), but always provided something of interest ... until now. I believe the worst thing you can ever say about a comedy is that it is boring. \"Envy\" is the definition of boring. Never of big fan of pure slap stick (\"Dumb and Dumber\"), I was just stunned at how god-awful this movie is. There are maybe 2 chuckles in the whole thing - if you can pay attention that long. The best part of the film is the running gag of the title song by a Redbone sound-alike. If the film had been written as well as the song, it would have been tolerable. Rachel Weisz is a wonderful actress and I realize they all want to do comedy (even Julianne Moore), but the real world exposes one weaknesses. SNL cast member Amy Poehler is her usual over the top in her role as trailer park trash turned princess. The disaster of the film is Jack Black and Ben Stiller. The first work commute together flashes some promise, but after that their chemistry disappears due to the poor script. This script is like most of Jack Black\\'s character\\'s ideas - not a bad thought, but no hope for success.',\n",
       " \"An absolutely brilliant show. The second season began where the first ended, with much mystery. Suspense in most, if not all episodes and mystery everywhere. One that made me think and think again. It's truly amazing how the writer can come out with all the connections and link all the characters together and combine all these elements to make the lives of the characters in the show so meaningful. Never fail to excites and I am looking forward to the new season. Hopefully more secrets will be reveal and at the same time, more mystery to be solved. Good selection of cast too for this show, fit the characters perfectly. Really can't wait to finally discover the secret. Hopefully all the hype won't spoil the ending.\",\n",
       " \"This movie was o.k. but it could have been much better. There are some spooky moments but there aren't enough of them to make me ever want to see this movie again. There are some scenes you could fast forward through & not miss anything. The biggest flaw is that it is so predictable, & that is the reason why I rated it so low. It's watchable but don't expect anything great.\",\n",
       " 'Every movie from the thirties is dated, but if you were to watch only John Ford movies it would seem more dated than if you watched others. i.e. Grand Hotel is comparatively modern melodrama. With Ford, there\\'s always the hard-sell of someone\\'s nobility (Abe, The Joads). Always the over-emphasis of some heavy\\'s badness. Always the poorly crafted, awkward and obvious scripts. This is no exception. It\\'s just a rather belabored device to deliver sentiment. And sentiment is all this has going for it.<br /><br />What Ford does here doesn\\'t make me appreciative of Lincoln, it just makes me wonder how the States were ever settled by the population of complete morons depicted here. Ford went on to make decent movies. This is too dated to be anything but bad. It feels entirely false. <br /><br />Henry Fonda with a fake nose is bizarre. And no one from Illinois would pronounce the trailing \\'S,\\' or say \"Shonuff!\"']"
      ]
     },
     "execution_count": 37,
     "metadata": {},
     "output_type": "execute_result"
    }
   ],
   "source": [
    "dataset['train']['text'][:5]"
   ]
  },
  {
   "cell_type": "code",
   "execution_count": 38,
   "id": "475ed2a3",
   "metadata": {},
   "outputs": [
    {
     "data": {
      "text/plain": [
       "[0, 0, 1, 0, 0]"
      ]
     },
     "execution_count": 38,
     "metadata": {},
     "output_type": "execute_result"
    }
   ],
   "source": [
    "dataset['train']['label'][:5]\n",
    "# 0 = negatif, 1 = positif"
   ]
  },
  {
   "cell_type": "markdown",
   "id": "9afe8e2d",
   "metadata": {},
   "source": [
    "On remarque que le dataset contients des critiques de films, le label correspond a si la critique est positive ou négative"
   ]
  },
  {
   "cell_type": "code",
   "execution_count": 39,
   "id": "39e20c79",
   "metadata": {},
   "outputs": [
    {
     "data": {
      "application/vnd.plotly.v1+json": {
       "config": {
        "plotlyServerURL": "https://plot.ly"
       },
       "data": [
        {
         "type": "bar",
         "x": [
          "the",
          "and",
          "of",
          "to",
          "is",
          "br",
          "it",
          "in",
          "this",
          "that",
          "was",
          "as",
          "movie",
          "for",
          "with",
          "but",
          "film",
          "you",
          "on",
          "not",
          "he",
          "are",
          "his",
          "have",
          "one",
          "be",
          "all",
          "at",
          "they",
          "by"
         ],
         "y": [
          164801,
          80024,
          71069,
          66456,
          52380,
          49913,
          47102,
          45789,
          37440,
          35817,
          23480,
          22915,
          21926,
          21427,
          21306,
          20970,
          19600,
          16761,
          16714,
          15144,
          14526,
          14347,
          14070,
          13604,
          13171,
          13051,
          11734,
          11471,
          11092,
          10870
         ]
        }
       ],
       "layout": {
        "template": {
         "data": {
          "bar": [
           {
            "error_x": {
             "color": "#2a3f5f"
            },
            "error_y": {
             "color": "#2a3f5f"
            },
            "marker": {
             "line": {
              "color": "#E5ECF6",
              "width": 0.5
             },
             "pattern": {
              "fillmode": "overlay",
              "size": 10,
              "solidity": 0.2
             }
            },
            "type": "bar"
           }
          ],
          "barpolar": [
           {
            "marker": {
             "line": {
              "color": "#E5ECF6",
              "width": 0.5
             },
             "pattern": {
              "fillmode": "overlay",
              "size": 10,
              "solidity": 0.2
             }
            },
            "type": "barpolar"
           }
          ],
          "carpet": [
           {
            "aaxis": {
             "endlinecolor": "#2a3f5f",
             "gridcolor": "white",
             "linecolor": "white",
             "minorgridcolor": "white",
             "startlinecolor": "#2a3f5f"
            },
            "baxis": {
             "endlinecolor": "#2a3f5f",
             "gridcolor": "white",
             "linecolor": "white",
             "minorgridcolor": "white",
             "startlinecolor": "#2a3f5f"
            },
            "type": "carpet"
           }
          ],
          "choropleth": [
           {
            "colorbar": {
             "outlinewidth": 0,
             "ticks": ""
            },
            "type": "choropleth"
           }
          ],
          "contour": [
           {
            "colorbar": {
             "outlinewidth": 0,
             "ticks": ""
            },
            "colorscale": [
             [
              0,
              "#0d0887"
             ],
             [
              0.1111111111111111,
              "#46039f"
             ],
             [
              0.2222222222222222,
              "#7201a8"
             ],
             [
              0.3333333333333333,
              "#9c179e"
             ],
             [
              0.4444444444444444,
              "#bd3786"
             ],
             [
              0.5555555555555556,
              "#d8576b"
             ],
             [
              0.6666666666666666,
              "#ed7953"
             ],
             [
              0.7777777777777778,
              "#fb9f3a"
             ],
             [
              0.8888888888888888,
              "#fdca26"
             ],
             [
              1,
              "#f0f921"
             ]
            ],
            "type": "contour"
           }
          ],
          "contourcarpet": [
           {
            "colorbar": {
             "outlinewidth": 0,
             "ticks": ""
            },
            "type": "contourcarpet"
           }
          ],
          "heatmap": [
           {
            "colorbar": {
             "outlinewidth": 0,
             "ticks": ""
            },
            "colorscale": [
             [
              0,
              "#0d0887"
             ],
             [
              0.1111111111111111,
              "#46039f"
             ],
             [
              0.2222222222222222,
              "#7201a8"
             ],
             [
              0.3333333333333333,
              "#9c179e"
             ],
             [
              0.4444444444444444,
              "#bd3786"
             ],
             [
              0.5555555555555556,
              "#d8576b"
             ],
             [
              0.6666666666666666,
              "#ed7953"
             ],
             [
              0.7777777777777778,
              "#fb9f3a"
             ],
             [
              0.8888888888888888,
              "#fdca26"
             ],
             [
              1,
              "#f0f921"
             ]
            ],
            "type": "heatmap"
           }
          ],
          "heatmapgl": [
           {
            "colorbar": {
             "outlinewidth": 0,
             "ticks": ""
            },
            "colorscale": [
             [
              0,
              "#0d0887"
             ],
             [
              0.1111111111111111,
              "#46039f"
             ],
             [
              0.2222222222222222,
              "#7201a8"
             ],
             [
              0.3333333333333333,
              "#9c179e"
             ],
             [
              0.4444444444444444,
              "#bd3786"
             ],
             [
              0.5555555555555556,
              "#d8576b"
             ],
             [
              0.6666666666666666,
              "#ed7953"
             ],
             [
              0.7777777777777778,
              "#fb9f3a"
             ],
             [
              0.8888888888888888,
              "#fdca26"
             ],
             [
              1,
              "#f0f921"
             ]
            ],
            "type": "heatmapgl"
           }
          ],
          "histogram": [
           {
            "marker": {
             "pattern": {
              "fillmode": "overlay",
              "size": 10,
              "solidity": 0.2
             }
            },
            "type": "histogram"
           }
          ],
          "histogram2d": [
           {
            "colorbar": {
             "outlinewidth": 0,
             "ticks": ""
            },
            "colorscale": [
             [
              0,
              "#0d0887"
             ],
             [
              0.1111111111111111,
              "#46039f"
             ],
             [
              0.2222222222222222,
              "#7201a8"
             ],
             [
              0.3333333333333333,
              "#9c179e"
             ],
             [
              0.4444444444444444,
              "#bd3786"
             ],
             [
              0.5555555555555556,
              "#d8576b"
             ],
             [
              0.6666666666666666,
              "#ed7953"
             ],
             [
              0.7777777777777778,
              "#fb9f3a"
             ],
             [
              0.8888888888888888,
              "#fdca26"
             ],
             [
              1,
              "#f0f921"
             ]
            ],
            "type": "histogram2d"
           }
          ],
          "histogram2dcontour": [
           {
            "colorbar": {
             "outlinewidth": 0,
             "ticks": ""
            },
            "colorscale": [
             [
              0,
              "#0d0887"
             ],
             [
              0.1111111111111111,
              "#46039f"
             ],
             [
              0.2222222222222222,
              "#7201a8"
             ],
             [
              0.3333333333333333,
              "#9c179e"
             ],
             [
              0.4444444444444444,
              "#bd3786"
             ],
             [
              0.5555555555555556,
              "#d8576b"
             ],
             [
              0.6666666666666666,
              "#ed7953"
             ],
             [
              0.7777777777777778,
              "#fb9f3a"
             ],
             [
              0.8888888888888888,
              "#fdca26"
             ],
             [
              1,
              "#f0f921"
             ]
            ],
            "type": "histogram2dcontour"
           }
          ],
          "mesh3d": [
           {
            "colorbar": {
             "outlinewidth": 0,
             "ticks": ""
            },
            "type": "mesh3d"
           }
          ],
          "parcoords": [
           {
            "line": {
             "colorbar": {
              "outlinewidth": 0,
              "ticks": ""
             }
            },
            "type": "parcoords"
           }
          ],
          "pie": [
           {
            "automargin": true,
            "type": "pie"
           }
          ],
          "scatter": [
           {
            "fillpattern": {
             "fillmode": "overlay",
             "size": 10,
             "solidity": 0.2
            },
            "type": "scatter"
           }
          ],
          "scatter3d": [
           {
            "line": {
             "colorbar": {
              "outlinewidth": 0,
              "ticks": ""
             }
            },
            "marker": {
             "colorbar": {
              "outlinewidth": 0,
              "ticks": ""
             }
            },
            "type": "scatter3d"
           }
          ],
          "scattercarpet": [
           {
            "marker": {
             "colorbar": {
              "outlinewidth": 0,
              "ticks": ""
             }
            },
            "type": "scattercarpet"
           }
          ],
          "scattergeo": [
           {
            "marker": {
             "colorbar": {
              "outlinewidth": 0,
              "ticks": ""
             }
            },
            "type": "scattergeo"
           }
          ],
          "scattergl": [
           {
            "marker": {
             "colorbar": {
              "outlinewidth": 0,
              "ticks": ""
             }
            },
            "type": "scattergl"
           }
          ],
          "scattermapbox": [
           {
            "marker": {
             "colorbar": {
              "outlinewidth": 0,
              "ticks": ""
             }
            },
            "type": "scattermapbox"
           }
          ],
          "scatterpolar": [
           {
            "marker": {
             "colorbar": {
              "outlinewidth": 0,
              "ticks": ""
             }
            },
            "type": "scatterpolar"
           }
          ],
          "scatterpolargl": [
           {
            "marker": {
             "colorbar": {
              "outlinewidth": 0,
              "ticks": ""
             }
            },
            "type": "scatterpolargl"
           }
          ],
          "scatterternary": [
           {
            "marker": {
             "colorbar": {
              "outlinewidth": 0,
              "ticks": ""
             }
            },
            "type": "scatterternary"
           }
          ],
          "surface": [
           {
            "colorbar": {
             "outlinewidth": 0,
             "ticks": ""
            },
            "colorscale": [
             [
              0,
              "#0d0887"
             ],
             [
              0.1111111111111111,
              "#46039f"
             ],
             [
              0.2222222222222222,
              "#7201a8"
             ],
             [
              0.3333333333333333,
              "#9c179e"
             ],
             [
              0.4444444444444444,
              "#bd3786"
             ],
             [
              0.5555555555555556,
              "#d8576b"
             ],
             [
              0.6666666666666666,
              "#ed7953"
             ],
             [
              0.7777777777777778,
              "#fb9f3a"
             ],
             [
              0.8888888888888888,
              "#fdca26"
             ],
             [
              1,
              "#f0f921"
             ]
            ],
            "type": "surface"
           }
          ],
          "table": [
           {
            "cells": {
             "fill": {
              "color": "#EBF0F8"
             },
             "line": {
              "color": "white"
             }
            },
            "header": {
             "fill": {
              "color": "#C8D4E3"
             },
             "line": {
              "color": "white"
             }
            },
            "type": "table"
           }
          ]
         },
         "layout": {
          "annotationdefaults": {
           "arrowcolor": "#2a3f5f",
           "arrowhead": 0,
           "arrowwidth": 1
          },
          "autotypenumbers": "strict",
          "coloraxis": {
           "colorbar": {
            "outlinewidth": 0,
            "ticks": ""
           }
          },
          "colorscale": {
           "diverging": [
            [
             0,
             "#8e0152"
            ],
            [
             0.1,
             "#c51b7d"
            ],
            [
             0.2,
             "#de77ae"
            ],
            [
             0.3,
             "#f1b6da"
            ],
            [
             0.4,
             "#fde0ef"
            ],
            [
             0.5,
             "#f7f7f7"
            ],
            [
             0.6,
             "#e6f5d0"
            ],
            [
             0.7,
             "#b8e186"
            ],
            [
             0.8,
             "#7fbc41"
            ],
            [
             0.9,
             "#4d9221"
            ],
            [
             1,
             "#276419"
            ]
           ],
           "sequential": [
            [
             0,
             "#0d0887"
            ],
            [
             0.1111111111111111,
             "#46039f"
            ],
            [
             0.2222222222222222,
             "#7201a8"
            ],
            [
             0.3333333333333333,
             "#9c179e"
            ],
            [
             0.4444444444444444,
             "#bd3786"
            ],
            [
             0.5555555555555556,
             "#d8576b"
            ],
            [
             0.6666666666666666,
             "#ed7953"
            ],
            [
             0.7777777777777778,
             "#fb9f3a"
            ],
            [
             0.8888888888888888,
             "#fdca26"
            ],
            [
             1,
             "#f0f921"
            ]
           ],
           "sequentialminus": [
            [
             0,
             "#0d0887"
            ],
            [
             0.1111111111111111,
             "#46039f"
            ],
            [
             0.2222222222222222,
             "#7201a8"
            ],
            [
             0.3333333333333333,
             "#9c179e"
            ],
            [
             0.4444444444444444,
             "#bd3786"
            ],
            [
             0.5555555555555556,
             "#d8576b"
            ],
            [
             0.6666666666666666,
             "#ed7953"
            ],
            [
             0.7777777777777778,
             "#fb9f3a"
            ],
            [
             0.8888888888888888,
             "#fdca26"
            ],
            [
             1,
             "#f0f921"
            ]
           ]
          },
          "colorway": [
           "#636efa",
           "#EF553B",
           "#00cc96",
           "#ab63fa",
           "#FFA15A",
           "#19d3f3",
           "#FF6692",
           "#B6E880",
           "#FF97FF",
           "#FECB52"
          ],
          "font": {
           "color": "#2a3f5f"
          },
          "geo": {
           "bgcolor": "white",
           "lakecolor": "white",
           "landcolor": "#E5ECF6",
           "showlakes": true,
           "showland": true,
           "subunitcolor": "white"
          },
          "hoverlabel": {
           "align": "left"
          },
          "hovermode": "closest",
          "mapbox": {
           "style": "light"
          },
          "paper_bgcolor": "white",
          "plot_bgcolor": "#E5ECF6",
          "polar": {
           "angularaxis": {
            "gridcolor": "white",
            "linecolor": "white",
            "ticks": ""
           },
           "bgcolor": "#E5ECF6",
           "radialaxis": {
            "gridcolor": "white",
            "linecolor": "white",
            "ticks": ""
           }
          },
          "scene": {
           "xaxis": {
            "backgroundcolor": "#E5ECF6",
            "gridcolor": "white",
            "gridwidth": 2,
            "linecolor": "white",
            "showbackground": true,
            "ticks": "",
            "zerolinecolor": "white"
           },
           "yaxis": {
            "backgroundcolor": "#E5ECF6",
            "gridcolor": "white",
            "gridwidth": 2,
            "linecolor": "white",
            "showbackground": true,
            "ticks": "",
            "zerolinecolor": "white"
           },
           "zaxis": {
            "backgroundcolor": "#E5ECF6",
            "gridcolor": "white",
            "gridwidth": 2,
            "linecolor": "white",
            "showbackground": true,
            "ticks": "",
            "zerolinecolor": "white"
           }
          },
          "shapedefaults": {
           "line": {
            "color": "#2a3f5f"
           }
          },
          "ternary": {
           "aaxis": {
            "gridcolor": "white",
            "linecolor": "white",
            "ticks": ""
           },
           "baxis": {
            "gridcolor": "white",
            "linecolor": "white",
            "ticks": ""
           },
           "bgcolor": "#E5ECF6",
           "caxis": {
            "gridcolor": "white",
            "linecolor": "white",
            "ticks": ""
           }
          },
          "title": {
           "x": 0.05
          },
          "xaxis": {
           "automargin": true,
           "gridcolor": "white",
           "linecolor": "white",
           "ticks": "",
           "title": {
            "standoff": 15
           },
           "zerolinecolor": "white",
           "zerolinewidth": 2
          },
          "yaxis": {
           "automargin": true,
           "gridcolor": "white",
           "linecolor": "white",
           "ticks": "",
           "title": {
            "standoff": 15
           },
           "zerolinecolor": "white",
           "zerolinewidth": 2
          }
         }
        },
        "title": {
         "text": "Top 30 unigrams"
        }
       }
      }
     },
     "metadata": {},
     "output_type": "display_data"
    }
   ],
   "source": [
    "import plotly.graph_objects as go\n",
    "from sklearn.feature_extraction.text import CountVectorizer\n",
    "import pandas as pd\n",
    "\n",
    "\n",
    "def get_top_n_words(corpus, n=None):\n",
    "    vec = CountVectorizer().fit(corpus)\n",
    "    bag_of_words = vec.transform(corpus)\n",
    "    sum_words = bag_of_words.sum(axis=0)\n",
    "    words_freq = [(word, sum_words[0, idx]) for word, idx in vec.vocabulary_.items()]\n",
    "    words_freq = sorted(words_freq, key=lambda x: x[1], reverse=True)\n",
    "    return words_freq[:n]\n",
    "\n",
    "corpus = dataset['train']['text']\n",
    "common_words = get_top_n_words(corpus, 30)\n",
    "df = pd.DataFrame(common_words, columns=['unigram', 'count'])\n",
    "\n",
    "fig = go.Figure([go.Bar(x=df['unigram'], y=df['count'])])\n",
    "fig.update_layout(title=go.layout.Title(text=\"Top 30 unigrams\"))\n",
    "fig.show()"
   ]
  },
  {
   "cell_type": "markdown",
   "id": "773a0424",
   "metadata": {},
   "source": [
    "## Nétoyage des données (tokenizer, stop word, ponctuation, lemmatization)"
   ]
  },
  {
   "cell_type": "code",
   "execution_count": 22,
   "id": "944dda44",
   "metadata": {},
   "outputs": [],
   "source": [
    "# Data cleaning\n",
    "import spacy\n",
    "\n",
    "nlp = spacy.load(\"en_core_web_sm\")\n",
    "\n",
    "def clean_text(text):\n",
    "    doc = nlp(text)\n",
    "    return \" \".join([token.lemma_ for token in doc if not token.is_stop and token.is_alpha])\n",
    "\n"
   ]
  },
  {
   "cell_type": "code",
   "execution_count": null,
   "id": "10aa6358",
   "metadata": {},
   "outputs": [],
   "source": [
    "X_train = [clean_text(text) for text in dataset['train']['text']]"
   ]
  },
  {
   "cell_type": "code",
   "execution_count": 32,
   "id": "d4c9ce7e",
   "metadata": {},
   "outputs": [
    {
     "data": {
      "text/plain": [
       "['quote Oedpius Rex tragedy film bad movie see way Uwe Boll hater like humourless people IMDb br boll movie like Postal Tunnel rat hilariously bad entertaining honestly movie horrible hate zero star rating story crap spend fifth film build plot middle scene grizzly horrible tastelessly murder finally end villan win end totally acceptable surely tasteful br Uwe Boll like say early violent movie love violent movie love see movie Hostel movie Tokyo Gore Police New York Ripper movie Dog Soldiers Bloody Valentine House Left Watchmen Wolf Creek tarantino movie Sam Peckinpah Cannibal Holocaust OMFG br cruel sadistic pervert look movie list like Cannibal Holocaust bad Uwe dark funny light hearted like Ed Wood awful experience feel horrible see WATCH avoid cost',\n",
       " 'greeting darkness happen great Barry Levinson direct time favorite Avalon Diner fine movie Rainman provide interest believe bad thing comedy boring envy definition boring big fan pure slap stick dumb Dumber stun god awful movie maybe chuckle thing pay attention long good film running gag title song Redbone sound alike film write song tolerable Rachel Weisz wonderful actress realize want comedy Julianne Moore real world expose weakness SNL cast member Amy Poehler usual role trailer park trash turn princess disaster film Jack Black Ben Stiller work commute flash promise chemistry disappear poor script script like Jack Black character idea bad thought hope success',\n",
       " 'absolutely brilliant second season begin end mystery suspense episode mystery think think truly amazing writer come connection link character combine element life character meaningful fail excite look forward new season hopefully secret reveal time mystery solve good selection cast fit character perfectly wait finally discover secret hopefully hype will spoil ending',\n",
       " 'movie well spooky moment want movie scene fast forward miss big flaw predictable reason rate low watchable expect great',\n",
       " 'movie thirty date watch John Ford movie dated watch Grand Hotel comparatively modern melodrama Ford hard sell nobility Abe Joads emphasis heavy badness poorly craft awkward obvious script exception belabor device deliver sentiment sentiment go Ford appreciative Lincoln make wonder States settle population complete moron depict Ford go decent movie date bad feel entirely false br Fonda fake nose bizarre Illinois pronounce trailing Shonuff']"
      ]
     },
     "execution_count": 32,
     "metadata": {},
     "output_type": "execute_result"
    }
   ],
   "source": [
    "X_train[:5]"
   ]
  },
  {
   "cell_type": "code",
   "execution_count": 26,
   "id": "eac03d25",
   "metadata": {},
   "outputs": [],
   "source": [
    "X_test = [clean_text(text) for text in dataset['test']['text']]"
   ]
  },
  {
   "cell_type": "code",
   "execution_count": 27,
   "id": "52c054ea",
   "metadata": {},
   "outputs": [],
   "source": [
    "y_train = dataset['train']['label']\n",
    "y_test = dataset['test']['label']"
   ]
  },
  {
   "cell_type": "code",
   "execution_count": 40,
   "id": "8513391e",
   "metadata": {},
   "outputs": [
    {
     "data": {
      "application/vnd.plotly.v1+json": {
       "config": {
        "plotlyServerURL": "https://plot.ly"
       },
       "data": [
        {
         "type": "bar",
         "x": [
          "movie",
          "film",
          "like",
          "good",
          "time",
          "character",
          "watch",
          "bad",
          "story",
          "see",
          "think",
          "scene",
          "great",
          "look",
          "people",
          "know",
          "go",
          "love",
          "way",
          "play",
          "get",
          "come",
          "find",
          "thing",
          "man",
          "br",
          "life",
          "end",
          "work",
          "plot"
         ],
         "y": [
          25094,
          22927,
          10980,
          9857,
          7586,
          6798,
          6666,
          6449,
          6375,
          6117,
          5637,
          4981,
          4879,
          4842,
          4617,
          4530,
          4263,
          4205,
          4174,
          4086,
          4044,
          3984,
          3941,
          3887,
          3656,
          3646,
          3614,
          3609,
          3415,
          3397
         ]
        }
       ],
       "layout": {
        "template": {
         "data": {
          "bar": [
           {
            "error_x": {
             "color": "#2a3f5f"
            },
            "error_y": {
             "color": "#2a3f5f"
            },
            "marker": {
             "line": {
              "color": "#E5ECF6",
              "width": 0.5
             },
             "pattern": {
              "fillmode": "overlay",
              "size": 10,
              "solidity": 0.2
             }
            },
            "type": "bar"
           }
          ],
          "barpolar": [
           {
            "marker": {
             "line": {
              "color": "#E5ECF6",
              "width": 0.5
             },
             "pattern": {
              "fillmode": "overlay",
              "size": 10,
              "solidity": 0.2
             }
            },
            "type": "barpolar"
           }
          ],
          "carpet": [
           {
            "aaxis": {
             "endlinecolor": "#2a3f5f",
             "gridcolor": "white",
             "linecolor": "white",
             "minorgridcolor": "white",
             "startlinecolor": "#2a3f5f"
            },
            "baxis": {
             "endlinecolor": "#2a3f5f",
             "gridcolor": "white",
             "linecolor": "white",
             "minorgridcolor": "white",
             "startlinecolor": "#2a3f5f"
            },
            "type": "carpet"
           }
          ],
          "choropleth": [
           {
            "colorbar": {
             "outlinewidth": 0,
             "ticks": ""
            },
            "type": "choropleth"
           }
          ],
          "contour": [
           {
            "colorbar": {
             "outlinewidth": 0,
             "ticks": ""
            },
            "colorscale": [
             [
              0,
              "#0d0887"
             ],
             [
              0.1111111111111111,
              "#46039f"
             ],
             [
              0.2222222222222222,
              "#7201a8"
             ],
             [
              0.3333333333333333,
              "#9c179e"
             ],
             [
              0.4444444444444444,
              "#bd3786"
             ],
             [
              0.5555555555555556,
              "#d8576b"
             ],
             [
              0.6666666666666666,
              "#ed7953"
             ],
             [
              0.7777777777777778,
              "#fb9f3a"
             ],
             [
              0.8888888888888888,
              "#fdca26"
             ],
             [
              1,
              "#f0f921"
             ]
            ],
            "type": "contour"
           }
          ],
          "contourcarpet": [
           {
            "colorbar": {
             "outlinewidth": 0,
             "ticks": ""
            },
            "type": "contourcarpet"
           }
          ],
          "heatmap": [
           {
            "colorbar": {
             "outlinewidth": 0,
             "ticks": ""
            },
            "colorscale": [
             [
              0,
              "#0d0887"
             ],
             [
              0.1111111111111111,
              "#46039f"
             ],
             [
              0.2222222222222222,
              "#7201a8"
             ],
             [
              0.3333333333333333,
              "#9c179e"
             ],
             [
              0.4444444444444444,
              "#bd3786"
             ],
             [
              0.5555555555555556,
              "#d8576b"
             ],
             [
              0.6666666666666666,
              "#ed7953"
             ],
             [
              0.7777777777777778,
              "#fb9f3a"
             ],
             [
              0.8888888888888888,
              "#fdca26"
             ],
             [
              1,
              "#f0f921"
             ]
            ],
            "type": "heatmap"
           }
          ],
          "heatmapgl": [
           {
            "colorbar": {
             "outlinewidth": 0,
             "ticks": ""
            },
            "colorscale": [
             [
              0,
              "#0d0887"
             ],
             [
              0.1111111111111111,
              "#46039f"
             ],
             [
              0.2222222222222222,
              "#7201a8"
             ],
             [
              0.3333333333333333,
              "#9c179e"
             ],
             [
              0.4444444444444444,
              "#bd3786"
             ],
             [
              0.5555555555555556,
              "#d8576b"
             ],
             [
              0.6666666666666666,
              "#ed7953"
             ],
             [
              0.7777777777777778,
              "#fb9f3a"
             ],
             [
              0.8888888888888888,
              "#fdca26"
             ],
             [
              1,
              "#f0f921"
             ]
            ],
            "type": "heatmapgl"
           }
          ],
          "histogram": [
           {
            "marker": {
             "pattern": {
              "fillmode": "overlay",
              "size": 10,
              "solidity": 0.2
             }
            },
            "type": "histogram"
           }
          ],
          "histogram2d": [
           {
            "colorbar": {
             "outlinewidth": 0,
             "ticks": ""
            },
            "colorscale": [
             [
              0,
              "#0d0887"
             ],
             [
              0.1111111111111111,
              "#46039f"
             ],
             [
              0.2222222222222222,
              "#7201a8"
             ],
             [
              0.3333333333333333,
              "#9c179e"
             ],
             [
              0.4444444444444444,
              "#bd3786"
             ],
             [
              0.5555555555555556,
              "#d8576b"
             ],
             [
              0.6666666666666666,
              "#ed7953"
             ],
             [
              0.7777777777777778,
              "#fb9f3a"
             ],
             [
              0.8888888888888888,
              "#fdca26"
             ],
             [
              1,
              "#f0f921"
             ]
            ],
            "type": "histogram2d"
           }
          ],
          "histogram2dcontour": [
           {
            "colorbar": {
             "outlinewidth": 0,
             "ticks": ""
            },
            "colorscale": [
             [
              0,
              "#0d0887"
             ],
             [
              0.1111111111111111,
              "#46039f"
             ],
             [
              0.2222222222222222,
              "#7201a8"
             ],
             [
              0.3333333333333333,
              "#9c179e"
             ],
             [
              0.4444444444444444,
              "#bd3786"
             ],
             [
              0.5555555555555556,
              "#d8576b"
             ],
             [
              0.6666666666666666,
              "#ed7953"
             ],
             [
              0.7777777777777778,
              "#fb9f3a"
             ],
             [
              0.8888888888888888,
              "#fdca26"
             ],
             [
              1,
              "#f0f921"
             ]
            ],
            "type": "histogram2dcontour"
           }
          ],
          "mesh3d": [
           {
            "colorbar": {
             "outlinewidth": 0,
             "ticks": ""
            },
            "type": "mesh3d"
           }
          ],
          "parcoords": [
           {
            "line": {
             "colorbar": {
              "outlinewidth": 0,
              "ticks": ""
             }
            },
            "type": "parcoords"
           }
          ],
          "pie": [
           {
            "automargin": true,
            "type": "pie"
           }
          ],
          "scatter": [
           {
            "fillpattern": {
             "fillmode": "overlay",
             "size": 10,
             "solidity": 0.2
            },
            "type": "scatter"
           }
          ],
          "scatter3d": [
           {
            "line": {
             "colorbar": {
              "outlinewidth": 0,
              "ticks": ""
             }
            },
            "marker": {
             "colorbar": {
              "outlinewidth": 0,
              "ticks": ""
             }
            },
            "type": "scatter3d"
           }
          ],
          "scattercarpet": [
           {
            "marker": {
             "colorbar": {
              "outlinewidth": 0,
              "ticks": ""
             }
            },
            "type": "scattercarpet"
           }
          ],
          "scattergeo": [
           {
            "marker": {
             "colorbar": {
              "outlinewidth": 0,
              "ticks": ""
             }
            },
            "type": "scattergeo"
           }
          ],
          "scattergl": [
           {
            "marker": {
             "colorbar": {
              "outlinewidth": 0,
              "ticks": ""
             }
            },
            "type": "scattergl"
           }
          ],
          "scattermapbox": [
           {
            "marker": {
             "colorbar": {
              "outlinewidth": 0,
              "ticks": ""
             }
            },
            "type": "scattermapbox"
           }
          ],
          "scatterpolar": [
           {
            "marker": {
             "colorbar": {
              "outlinewidth": 0,
              "ticks": ""
             }
            },
            "type": "scatterpolar"
           }
          ],
          "scatterpolargl": [
           {
            "marker": {
             "colorbar": {
              "outlinewidth": 0,
              "ticks": ""
             }
            },
            "type": "scatterpolargl"
           }
          ],
          "scatterternary": [
           {
            "marker": {
             "colorbar": {
              "outlinewidth": 0,
              "ticks": ""
             }
            },
            "type": "scatterternary"
           }
          ],
          "surface": [
           {
            "colorbar": {
             "outlinewidth": 0,
             "ticks": ""
            },
            "colorscale": [
             [
              0,
              "#0d0887"
             ],
             [
              0.1111111111111111,
              "#46039f"
             ],
             [
              0.2222222222222222,
              "#7201a8"
             ],
             [
              0.3333333333333333,
              "#9c179e"
             ],
             [
              0.4444444444444444,
              "#bd3786"
             ],
             [
              0.5555555555555556,
              "#d8576b"
             ],
             [
              0.6666666666666666,
              "#ed7953"
             ],
             [
              0.7777777777777778,
              "#fb9f3a"
             ],
             [
              0.8888888888888888,
              "#fdca26"
             ],
             [
              1,
              "#f0f921"
             ]
            ],
            "type": "surface"
           }
          ],
          "table": [
           {
            "cells": {
             "fill": {
              "color": "#EBF0F8"
             },
             "line": {
              "color": "white"
             }
            },
            "header": {
             "fill": {
              "color": "#C8D4E3"
             },
             "line": {
              "color": "white"
             }
            },
            "type": "table"
           }
          ]
         },
         "layout": {
          "annotationdefaults": {
           "arrowcolor": "#2a3f5f",
           "arrowhead": 0,
           "arrowwidth": 1
          },
          "autotypenumbers": "strict",
          "coloraxis": {
           "colorbar": {
            "outlinewidth": 0,
            "ticks": ""
           }
          },
          "colorscale": {
           "diverging": [
            [
             0,
             "#8e0152"
            ],
            [
             0.1,
             "#c51b7d"
            ],
            [
             0.2,
             "#de77ae"
            ],
            [
             0.3,
             "#f1b6da"
            ],
            [
             0.4,
             "#fde0ef"
            ],
            [
             0.5,
             "#f7f7f7"
            ],
            [
             0.6,
             "#e6f5d0"
            ],
            [
             0.7,
             "#b8e186"
            ],
            [
             0.8,
             "#7fbc41"
            ],
            [
             0.9,
             "#4d9221"
            ],
            [
             1,
             "#276419"
            ]
           ],
           "sequential": [
            [
             0,
             "#0d0887"
            ],
            [
             0.1111111111111111,
             "#46039f"
            ],
            [
             0.2222222222222222,
             "#7201a8"
            ],
            [
             0.3333333333333333,
             "#9c179e"
            ],
            [
             0.4444444444444444,
             "#bd3786"
            ],
            [
             0.5555555555555556,
             "#d8576b"
            ],
            [
             0.6666666666666666,
             "#ed7953"
            ],
            [
             0.7777777777777778,
             "#fb9f3a"
            ],
            [
             0.8888888888888888,
             "#fdca26"
            ],
            [
             1,
             "#f0f921"
            ]
           ],
           "sequentialminus": [
            [
             0,
             "#0d0887"
            ],
            [
             0.1111111111111111,
             "#46039f"
            ],
            [
             0.2222222222222222,
             "#7201a8"
            ],
            [
             0.3333333333333333,
             "#9c179e"
            ],
            [
             0.4444444444444444,
             "#bd3786"
            ],
            [
             0.5555555555555556,
             "#d8576b"
            ],
            [
             0.6666666666666666,
             "#ed7953"
            ],
            [
             0.7777777777777778,
             "#fb9f3a"
            ],
            [
             0.8888888888888888,
             "#fdca26"
            ],
            [
             1,
             "#f0f921"
            ]
           ]
          },
          "colorway": [
           "#636efa",
           "#EF553B",
           "#00cc96",
           "#ab63fa",
           "#FFA15A",
           "#19d3f3",
           "#FF6692",
           "#B6E880",
           "#FF97FF",
           "#FECB52"
          ],
          "font": {
           "color": "#2a3f5f"
          },
          "geo": {
           "bgcolor": "white",
           "lakecolor": "white",
           "landcolor": "#E5ECF6",
           "showlakes": true,
           "showland": true,
           "subunitcolor": "white"
          },
          "hoverlabel": {
           "align": "left"
          },
          "hovermode": "closest",
          "mapbox": {
           "style": "light"
          },
          "paper_bgcolor": "white",
          "plot_bgcolor": "#E5ECF6",
          "polar": {
           "angularaxis": {
            "gridcolor": "white",
            "linecolor": "white",
            "ticks": ""
           },
           "bgcolor": "#E5ECF6",
           "radialaxis": {
            "gridcolor": "white",
            "linecolor": "white",
            "ticks": ""
           }
          },
          "scene": {
           "xaxis": {
            "backgroundcolor": "#E5ECF6",
            "gridcolor": "white",
            "gridwidth": 2,
            "linecolor": "white",
            "showbackground": true,
            "ticks": "",
            "zerolinecolor": "white"
           },
           "yaxis": {
            "backgroundcolor": "#E5ECF6",
            "gridcolor": "white",
            "gridwidth": 2,
            "linecolor": "white",
            "showbackground": true,
            "ticks": "",
            "zerolinecolor": "white"
           },
           "zaxis": {
            "backgroundcolor": "#E5ECF6",
            "gridcolor": "white",
            "gridwidth": 2,
            "linecolor": "white",
            "showbackground": true,
            "ticks": "",
            "zerolinecolor": "white"
           }
          },
          "shapedefaults": {
           "line": {
            "color": "#2a3f5f"
           }
          },
          "ternary": {
           "aaxis": {
            "gridcolor": "white",
            "linecolor": "white",
            "ticks": ""
           },
           "baxis": {
            "gridcolor": "white",
            "linecolor": "white",
            "ticks": ""
           },
           "bgcolor": "#E5ECF6",
           "caxis": {
            "gridcolor": "white",
            "linecolor": "white",
            "ticks": ""
           }
          },
          "title": {
           "x": 0.05
          },
          "xaxis": {
           "automargin": true,
           "gridcolor": "white",
           "linecolor": "white",
           "ticks": "",
           "title": {
            "standoff": 15
           },
           "zerolinecolor": "white",
           "zerolinewidth": 2
          },
          "yaxis": {
           "automargin": true,
           "gridcolor": "white",
           "linecolor": "white",
           "ticks": "",
           "title": {
            "standoff": 15
           },
           "zerolinecolor": "white",
           "zerolinewidth": 2
          }
         }
        },
        "title": {
         "text": "Top 30 unigrams"
        }
       }
      }
     },
     "metadata": {},
     "output_type": "display_data"
    }
   ],
   "source": [
    "corpus = X_train\n",
    "common_words = get_top_n_words(corpus, 30)\n",
    "df = pd.DataFrame(common_words, columns=['unigram', 'count'])\n",
    "\n",
    "fig = go.Figure([go.Bar(x=df['unigram'], y=df['count'])])\n",
    "fig.update_layout(title=go.layout.Title(text=\"Top 30 unigrams\"))\n",
    "fig.show()"
   ]
  },
  {
   "cell_type": "markdown",
   "id": "8f7e6f78",
   "metadata": {},
   "source": [
    "## Entrainement"
   ]
  },
  {
   "cell_type": "markdown",
   "id": "366f833e",
   "metadata": {},
   "source": [
    "### KNN"
   ]
  },
  {
   "cell_type": "code",
   "execution_count": 45,
   "id": "7813e9ad",
   "metadata": {},
   "outputs": [
    {
     "name": "stdout",
     "output_type": "stream",
     "text": [
      "Test accuracy is 0.7706666666666667\n",
      "              precision    recall  f1-score   support\n",
      "\n",
      "           0       0.80      0.72      0.76      2625\n",
      "           1       0.75      0.82      0.78      2625\n",
      "\n",
      "    accuracy                           0.77      5250\n",
      "   macro avg       0.77      0.77      0.77      5250\n",
      "weighted avg       0.77      0.77      0.77      5250\n",
      "\n"
     ]
    }
   ],
   "source": [
    "from sklearn.feature_extraction.text import TfidfVectorizer\n",
    "from sklearn.metrics import accuracy_score, classification_report\n",
    "from sklearn.pipeline import Pipeline\n",
    "from sklearn.neighbors import KNeighborsClassifier\n",
    "\n",
    "# Creat simple pipline that do tfidf \n",
    "# and train Multilabel classification model with LinearSVC \n",
    "SVC_pipeline = Pipeline([\n",
    "    ('tfidf', TfidfVectorizer()),\n",
    "    ('clf', KNeighborsClassifier(n_neighbors=5, weights=\"distance\")),\n",
    "])\n",
    "\n",
    "# max_features -> beaucoup de features = beaucoup de temps de calcule\n",
    "# TfidfVectorizer(max_features=1000)\n",
    "\n",
    "SVC_pipeline.fit(X_train, y_train)\n",
    "\n",
    "# compute the testing accuracy\n",
    "prediction = SVC_pipeline.predict(X_test)\n",
    "print('Test accuracy is {}'.format(accuracy_score(y_test, prediction)))\n",
    "print(classification_report(y_test, prediction))"
   ]
  },
  {
   "cell_type": "markdown",
   "id": "42ec850b",
   "metadata": {},
   "source": [
    "### KNN sans preprocessing"
   ]
  },
  {
   "cell_type": "code",
   "execution_count": 46,
   "id": "4faf0e86",
   "metadata": {},
   "outputs": [
    {
     "name": "stdout",
     "output_type": "stream",
     "text": [
      "Test accuracy is 0.7579047619047619\n",
      "              precision    recall  f1-score   support\n",
      "\n",
      "           0       0.77      0.74      0.75      2625\n",
      "           1       0.75      0.78      0.76      2625\n",
      "\n",
      "    accuracy                           0.76      5250\n",
      "   macro avg       0.76      0.76      0.76      5250\n",
      "weighted avg       0.76      0.76      0.76      5250\n",
      "\n"
     ]
    }
   ],
   "source": [
    "# Creat simple pipline that do tfidf \n",
    "# and train Multilabel classification model with LinearSVC \n",
    "SVC_pipeline = Pipeline([\n",
    "    ('tfidf', TfidfVectorizer()),\n",
    "    ('clf', KNeighborsClassifier(n_neighbors=5, weights=\"distance\")),\n",
    "])\n",
    "\n",
    "SVC_pipeline.fit(dataset['train']['text'], dataset['train']['label'])\n",
    "\n",
    "prediction = SVC_pipeline.predict(dataset['test']['text'])\n",
    "print('Test accuracy is {}'.format(accuracy_score(dataset['test']['label'], prediction)))\n",
    "print(classification_report(dataset['test']['label'], prediction))"
   ]
  },
  {
   "cell_type": "markdown",
   "id": "9267f7dc",
   "metadata": {},
   "source": [
    "### SVM"
   ]
  },
  {
   "cell_type": "code",
   "execution_count": 41,
   "id": "92be1c05",
   "metadata": {},
   "outputs": [
    {
     "name": "stderr",
     "output_type": "stream",
     "text": [
      "/home/rom/Documents/MATH904/env/lib/python3.11/site-packages/sklearn/svm/_classes.py:31: FutureWarning:\n",
      "\n",
      "The default value of `dual` will change from `True` to `'auto'` in 1.5. Set the value of `dual` explicitly to suppress the warning.\n",
      "\n"
     ]
    },
    {
     "name": "stdout",
     "output_type": "stream",
     "text": [
      "Test accuracy is 0.8761904761904762\n",
      "              precision    recall  f1-score   support\n",
      "\n",
      "           0       0.89      0.86      0.87      2625\n",
      "           1       0.86      0.89      0.88      2625\n",
      "\n",
      "    accuracy                           0.88      5250\n",
      "   macro avg       0.88      0.88      0.88      5250\n",
      "weighted avg       0.88      0.88      0.88      5250\n",
      "\n"
     ]
    }
   ],
   "source": [
    "# SVM\n",
    "from sklearn.svm import LinearSVC\n",
    "\n",
    "SVC_pipeline = Pipeline([\n",
    "    ('tfidf', TfidfVectorizer()),\n",
    "    ('clf', LinearSVC()),\n",
    "])\n",
    "\n",
    "SVC_pipeline.fit(X_train, y_train)\n",
    "\n",
    "prediction = SVC_pipeline.predict(X_test)\n",
    "print('Test accuracy is {}'.format(accuracy_score(y_test, prediction)))\n",
    "print(classification_report(y_test, prediction))\n"
   ]
  },
  {
   "cell_type": "markdown",
   "id": "ddf3b7ea",
   "metadata": {},
   "source": [
    "### Naive Bayes"
   ]
  },
  {
   "cell_type": "code",
   "execution_count": 42,
   "id": "276822be",
   "metadata": {},
   "outputs": [
    {
     "name": "stdout",
     "output_type": "stream",
     "text": [
      "Test accuracy is 0.8632380952380952\n",
      "              precision    recall  f1-score   support\n",
      "\n",
      "           0       0.86      0.86      0.86      2625\n",
      "           1       0.86      0.86      0.86      2625\n",
      "\n",
      "    accuracy                           0.86      5250\n",
      "   macro avg       0.86      0.86      0.86      5250\n",
      "weighted avg       0.86      0.86      0.86      5250\n",
      "\n"
     ]
    }
   ],
   "source": [
    "# Naive Bayes\n",
    "from sklearn.naive_bayes import MultinomialNB\n",
    "\n",
    "NB_pipeline = Pipeline([\n",
    "    ('tfidf', TfidfVectorizer()),\n",
    "    ('clf', MultinomialNB()),\n",
    "])\n",
    "\n",
    "NB_pipeline.fit(X_train, y_train)\n",
    "\n",
    "prediction = NB_pipeline.predict(X_test)\n",
    "print('Test accuracy is {}'.format(accuracy_score(y_test, prediction)))\n",
    "print(classification_report(y_test, prediction))"
   ]
  },
  {
   "cell_type": "markdown",
   "id": "892eecfe",
   "metadata": {},
   "source": [
    "### Random Forest"
   ]
  },
  {
   "cell_type": "code",
   "execution_count": 44,
   "id": "977b01ce",
   "metadata": {},
   "outputs": [
    {
     "name": "stdout",
     "output_type": "stream",
     "text": [
      "Test accuracy is 0.8466666666666667\n",
      "              precision    recall  f1-score   support\n",
      "\n",
      "           0       0.85      0.85      0.85      2625\n",
      "           1       0.85      0.85      0.85      2625\n",
      "\n",
      "    accuracy                           0.85      5250\n",
      "   macro avg       0.85      0.85      0.85      5250\n",
      "weighted avg       0.85      0.85      0.85      5250\n",
      "\n"
     ]
    }
   ],
   "source": [
    "# Random Forest\n",
    "from sklearn.ensemble import RandomForestClassifier\n",
    "\n",
    "RF_pipeline = Pipeline([\n",
    "    ('tfidf', TfidfVectorizer()),\n",
    "    ('clf', RandomForestClassifier()),\n",
    "])\n",
    "\n",
    "RF_pipeline.fit(X_train, y_train)\n",
    "\n",
    "prediction = RF_pipeline.predict(X_test)\n",
    "\n",
    "print('Test accuracy is {}'.format(accuracy_score(y_test, prediction)))\n",
    "print(classification_report(y_test, prediction))"
   ]
  },
  {
   "cell_type": "markdown",
   "id": "c36db46a",
   "metadata": {},
   "source": [
    "## Questions\n",
    "1. Comment la réduction du nombre de caractéristiques (`max_features`) affecte-t-elle la performance du modèle ?  \n",
    "La réduction du nombre de caractéristiques (max_features) dans un modèle, comme dans le cas des arbres de décision par exemple, peut avoir un impact sur la performance de celui-ci. En réduisant le nombre de caractéristiques, on réduit également la complexité du modèle, ce qui peut aider à prévenir le surajustement (overfitting) dans certains cas, notamment lorsque le nombre de caractéristiques est très élevé par rapport à la taille des données d'entraînement. Cependant, une réduction excessive du nombre de caractéristiques peut également entraîner une perte d'informations importantes pour la tâche de prédiction, ce qui peut affecter négativement la performance du modèle en réduisant sa capacité à généraliser sur de nouvelles données.\n",
    "\n",
    "2. Quel impact a le choix du nombre de voisins dans KNN sur les résultats ?  \n",
    "Dans l'algorithme des k plus proches voisins (KNN), le choix du nombre de voisins (k) a un impact significatif sur les résultats du modèle. Un k plus petit signifie que le modèle se base sur moins de voisins pour effectuer sa prédiction, ce qui peut le rendre plus sensible au bruit ou aux variations aléatoires dans les données. Un k plus grand peut lisser les frontières de décision, ce qui peut être bénéfique pour réduire le surajustement, mais peut également conduire à une sous-représentation des structures locales dans les données. Ainsi, le choix optimal de k dépendra du jeu de données spécifique et de la complexité de la tâche de classification. Dans mon cas la meilleur valeur est de 5 qui nous donne une accuracy de 77%\n",
    "\n",
    "3. Comparez les performances du modèle KNN avec un autre classificateur (par exemple, [Naive Bayes](https://scikit-learn.org/stable/modules/naive_bayes.html) ou [SVM](https://scikit-learn.org/stable/modules/generated/sklearn.svm.LinearSVC.html#sklearn.svm.LinearSVC). Lequel performe mieux et pourquoi ?  \n",
    "Le SVM et Naive Bayes founissent de meilleur résultats que le KNN. Les SVm sont en général meilleur pour des probèmes avec une forte dimmension des données. Naive Bayes peut être plus approprié pour des tâches de classification simples avec des hypothèses d'indépendance entre les caractéristiques\n",
    "\n",
    "4. Le preprocessing améliore t-il la clasification ?  \n",
    "Dans ce cas-ci le préprocessing n'as pas changé beaucoup les résultats car le tf idf permet de garder en général les mots important."
   ]
  }
 ],
 "metadata": {
  "kernelspec": {
   "display_name": "Python 3",
   "language": "python",
   "name": "python3"
  },
  "language_info": {
   "codemirror_mode": {
    "name": "ipython",
    "version": 3
   },
   "file_extension": ".py",
   "mimetype": "text/x-python",
   "name": "python",
   "nbconvert_exporter": "python",
   "pygments_lexer": "ipython3",
   "version": "3.11.6"
  }
 },
 "nbformat": 4,
 "nbformat_minor": 5
}
