{
 "cells": [
  {
   "cell_type": "markdown",
   "id": "acd382d3b251606c",
   "metadata": {
    "collapsed": false
   },
   "source": [
    "# Word Embedding\n",
    "\n",
    "Word Embedding is a type of word representation that allows words with similar meaning to have a similar representation. It is a learned representation for text where words that have the same meaning have a similar representation. The process of creating word embeddings is to train a model on a large body of text using unsupervised learning so that it learns to predict a word given its context, or vice versa. This results in embeddings where words that are close together in the high-dimensional embedding space are expected to be semantically similar.\n",
    "\n",
    "Notably, word embeddings do not just assign each word to a unique vector, but they actually represent words in a way that captures semantic or syntactic similarity, based on the text corpus the model is trained on. Embedding vectors are often hundreds of dimensions and are good at capturing nuanced relationships between words.\n",
    "\n",
    "![word_embed](../asset/word_embed.png)\n",
    "\n",
    "## Embedding layer\n",
    "\n",
    "An Embedding Layer in machine learning is a layer that creates word embeddings from input sequences by mapping words or integers to dense vectors of real numbers. It's often used in natural language processing tasks where the layer takes in a 2D input of integer sequences (word indices) and on output provides 3D floating point tensor sequences. Each individual sequence in the 3D output tensor will have the same length as the original input sequence, but each word or integer in the sequence is now represented by a dense vector. These vectors capture semantic relationships between words, and their dimensionality is a hyperparameter that can be tuned for specific tasks.\n",
    "\n",
    "### Very basic usage\n",
    "\n",
    "Embedding is just a simple lookup table. Link a index to a trainable vector."
   ]
  },
  {
   "cell_type": "code",
   "execution_count": 1,
   "id": "1eb248361b1f0817",
   "metadata": {
    "collapsed": false
   },
   "outputs": [
    {
     "name": "stdout",
     "output_type": "stream",
     "text": [
      "tensor([[ 2.1202, -0.2036, -0.0226,  1.2910,  1.8117]],\n",
      "       grad_fn=<EmbeddingBackward0>)\n"
     ]
    }
   ],
   "source": [
    "import torch\n",
    "import torch.nn as nn\n",
    "\n",
    "word_to_ix = {\"hello\": 0, \"world\": 1}\n",
    "\n",
    "# 2 words in vocab \"hello\" and \"world\"\n",
    "# 5 dimensional embeddings\n",
    "embeds = nn.Embedding(num_embeddings=2, embedding_dim=5)\n",
    "\n",
    "lookup_tensor = torch.tensor([word_to_ix[\"hello\"]], dtype=torch.long)\n",
    "\n",
    "hello_embed = embeds(lookup_tensor)\n",
    "\n",
    "print(hello_embed)"
   ]
  },
  {
   "cell_type": "markdown",
   "id": "a3729db8c57169d4",
   "metadata": {
    "collapsed": false
   },
   "source": [
    "Get train parameters\n"
   ]
  },
  {
   "cell_type": "code",
   "execution_count": 2,
   "id": "a147c1b00b18fce0",
   "metadata": {
    "collapsed": false
   },
   "outputs": [
    {
     "name": "stdout",
     "output_type": "stream",
     "text": [
      "Parameter containing:\n",
      "tensor([[ 2.1202, -0.2036, -0.0226,  1.2910,  1.8117],\n",
      "        [-0.3365,  1.5382,  1.6419,  1.2614, -0.4843]], requires_grad=True)\n"
     ]
    }
   ],
   "source": [
    "for param in embeds.parameters():\n",
    "    print(param)"
   ]
  },
  {
   "cell_type": "markdown",
   "id": "445679a4b1b15fbe",
   "metadata": {
    "collapsed": false
   },
   "source": [
    "Just for fun set weight to a fix value\n"
   ]
  },
  {
   "cell_type": "code",
   "execution_count": 3,
   "id": "132f51809cc92340",
   "metadata": {
    "collapsed": false
   },
   "outputs": [
    {
     "data": {
      "text/plain": [
       "Parameter containing:\n",
       "tensor([[1., 0., 0., 0., 1.],\n",
       "        [0., 1., 1., 1., 0.]], requires_grad=True)"
      ]
     },
     "execution_count": 3,
     "metadata": {},
     "output_type": "execute_result"
    }
   ],
   "source": [
    "embedding_lookup = torch.tensor([\n",
    "    [1, 0, 0, 0, 1],\n",
    "    [0, 1, 1, 1, 0],\n",
    "], dtype=torch.float32)\n",
    "embeds.weight = nn.Parameter(embedding_lookup)\n",
    "embeds.weight"
   ]
  },
  {
   "cell_type": "markdown",
   "id": "603ebf902b1c23de",
   "metadata": {
    "collapsed": false
   },
   "source": [
    "As you can see, if I select index 0 or 1, I get my embedding_lookup line.\n"
   ]
  },
  {
   "cell_type": "code",
   "execution_count": 4,
   "id": "e55098ecab0d9fba",
   "metadata": {
    "collapsed": false
   },
   "outputs": [
    {
     "name": "stdout",
     "output_type": "stream",
     "text": [
      "tensor([[1., 0., 0., 0., 1.]], grad_fn=<EmbeddingBackward0>)\n",
      "tensor([[0., 1., 1., 1., 0.]], grad_fn=<EmbeddingBackward0>)\n"
     ]
    }
   ],
   "source": [
    "print(embeds(torch.tensor([0])))\n",
    "print(embeds(torch.tensor([1])))"
   ]
  },
  {
   "cell_type": "markdown",
   "id": "a1fb3b0d9955d9d9",
   "metadata": {
    "collapsed": false
   },
   "source": [
    "## GPT embedding\n",
    "\n",
    "Let's get the very first GPT model and see how the embedding layer size"
   ]
  },
  {
   "cell_type": "code",
   "execution_count": 6,
   "id": "eff43cf92ccb96fd",
   "metadata": {
    "collapsed": false
   },
   "outputs": [
    {
     "data": {
      "application/vnd.jupyter.widget-view+json": {
       "model_id": "405ab8fa19ed4eb4ad691e3cc8bb6780",
       "version_major": 2,
       "version_minor": 0
      },
      "text/plain": [
       "vocab.json:   0%|          | 0.00/1.04M [00:00<?, ?B/s]"
      ]
     },
     "metadata": {},
     "output_type": "display_data"
    },
    {
     "data": {
      "application/vnd.jupyter.widget-view+json": {
       "model_id": "4c82a6235f204c6d90a59026f040507f",
       "version_major": 2,
       "version_minor": 0
      },
      "text/plain": [
       "merges.txt:   0%|          | 0.00/456k [00:00<?, ?B/s]"
      ]
     },
     "metadata": {},
     "output_type": "display_data"
    },
    {
     "data": {
      "application/vnd.jupyter.widget-view+json": {
       "model_id": "13f95fd43b734a97b94ab5acaa6b3fee",
       "version_major": 2,
       "version_minor": 0
      },
      "text/plain": [
       "tokenizer.json:   0%|          | 0.00/1.36M [00:00<?, ?B/s]"
      ]
     },
     "metadata": {},
     "output_type": "display_data"
    },
    {
     "data": {
      "application/vnd.jupyter.widget-view+json": {
       "model_id": "0aaed728b5af471db17e652f79b42291",
       "version_major": 2,
       "version_minor": 0
      },
      "text/plain": [
       "config.json:   0%|          | 0.00/665 [00:00<?, ?B/s]"
      ]
     },
     "metadata": {},
     "output_type": "display_data"
    },
    {
     "data": {
      "application/vnd.jupyter.widget-view+json": {
       "model_id": "c03884c8c29a4186a0f414787557a302",
       "version_major": 2,
       "version_minor": 0
      },
      "text/plain": [
       "model.safetensors:   0%|          | 0.00/548M [00:00<?, ?B/s]"
      ]
     },
     "metadata": {},
     "output_type": "display_data"
    },
    {
     "name": "stdout",
     "output_type": "stream",
     "text": [
      "vocab size 50257\n",
      "Embedding size Embedding(50257, 768)\n"
     ]
    }
   ],
   "source": [
    "from transformers import GPT2Tokenizer, GPT2Model\n",
    "\n",
    "tokenizer = GPT2Tokenizer.from_pretrained(\"gpt2\")\n",
    "model = GPT2Model.from_pretrained(\"gpt2\")\n",
    "\n",
    "inputs = tokenizer(\"Hello, my dog is cute\", return_tensors=\"pt\")\n",
    "\n",
    "print(\"vocab size\", tokenizer.vocab_size)\n",
    "\n",
    "# expected Embedding(50257, 768)\n",
    "# 50257 = vocabulary size\n",
    "# 768 = number of features\n",
    "print(\"Embedding size\", model.wte)"
   ]
  },
  {
   "cell_type": "markdown",
   "id": "ea5beba390d7e9da",
   "metadata": {
    "collapsed": false
   },
   "source": [
    "\n",
    "[Let's look at the code for this model](https://github.com/huggingface/transformers/blob/v4.25.1/src/transformers/models/gpt2/modeling_gpt2.py#L667)\n",
    "\n",
    "## Train first embedding layer\n",
    "\n",
    "For this part we will train our first embedding layer on disney park reviews !\n",
    "\n",
    "To start we will ony train this layer on letter instance of words\n",
    "\n"
   ]
  },
  {
   "cell_type": "code",
   "execution_count": 7,
   "id": "e1e9ce6061cdd8c",
   "metadata": {
    "collapsed": false
   },
   "outputs": [
    {
     "data": {
      "text/html": [
       "<div>\n",
       "<style scoped>\n",
       "    .dataframe tbody tr th:only-of-type {\n",
       "        vertical-align: middle;\n",
       "    }\n",
       "\n",
       "    .dataframe tbody tr th {\n",
       "        vertical-align: top;\n",
       "    }\n",
       "\n",
       "    .dataframe thead th {\n",
       "        text-align: right;\n",
       "    }\n",
       "</style>\n",
       "<table border=\"1\" class=\"dataframe\">\n",
       "  <thead>\n",
       "    <tr style=\"text-align: right;\">\n",
       "      <th></th>\n",
       "      <th>Unnamed: 0</th>\n",
       "      <th>Review_ID</th>\n",
       "      <th>Rating</th>\n",
       "      <th>Year_Month</th>\n",
       "      <th>Reviewer_Location</th>\n",
       "      <th>Review_Text</th>\n",
       "      <th>Branch</th>\n",
       "    </tr>\n",
       "  </thead>\n",
       "  <tbody>\n",
       "    <tr>\n",
       "      <th>0</th>\n",
       "      <td>16833</td>\n",
       "      <td>333121929</td>\n",
       "      <td>5</td>\n",
       "      <td>2015-12</td>\n",
       "      <td>United States</td>\n",
       "      <td>Truly the most magical place on the West Coast...</td>\n",
       "      <td>Disneyland_California</td>\n",
       "    </tr>\n",
       "    <tr>\n",
       "      <th>1</th>\n",
       "      <td>28602</td>\n",
       "      <td>71690002</td>\n",
       "      <td>5</td>\n",
       "      <td>missing</td>\n",
       "      <td>Canada</td>\n",
       "      <td>I cry every time we have to leave this place, ...</td>\n",
       "      <td>Disneyland_California</td>\n",
       "    </tr>\n",
       "    <tr>\n",
       "      <th>2</th>\n",
       "      <td>32094</td>\n",
       "      <td>481683772</td>\n",
       "      <td>5</td>\n",
       "      <td>2017-4</td>\n",
       "      <td>United Kingdom</td>\n",
       "      <td>Staff everywhere were just friendly, the custo...</td>\n",
       "      <td>Disneyland_Paris</td>\n",
       "    </tr>\n",
       "    <tr>\n",
       "      <th>3</th>\n",
       "      <td>16576</td>\n",
       "      <td>339637317</td>\n",
       "      <td>5</td>\n",
       "      <td>2016-1</td>\n",
       "      <td>United States</td>\n",
       "      <td>It's Disneyland, what more is there to say?  W...</td>\n",
       "      <td>Disneyland_California</td>\n",
       "    </tr>\n",
       "    <tr>\n",
       "      <th>4</th>\n",
       "      <td>13962</td>\n",
       "      <td>438710000</td>\n",
       "      <td>5</td>\n",
       "      <td>2016-10</td>\n",
       "      <td>United Kingdom</td>\n",
       "      <td>We visited this park at Halloween and enjoyed ...</td>\n",
       "      <td>Disneyland_California</td>\n",
       "    </tr>\n",
       "  </tbody>\n",
       "</table>\n",
       "</div>"
      ],
      "text/plain": [
       "   Unnamed: 0  Review_ID  Rating Year_Month Reviewer_Location  \\\n",
       "0       16833  333121929       5    2015-12     United States   \n",
       "1       28602   71690002       5    missing            Canada   \n",
       "2       32094  481683772       5     2017-4    United Kingdom   \n",
       "3       16576  339637317       5     2016-1     United States   \n",
       "4       13962  438710000       5    2016-10    United Kingdom   \n",
       "\n",
       "                                         Review_Text                 Branch  \n",
       "0  Truly the most magical place on the West Coast...  Disneyland_California  \n",
       "1  I cry every time we have to leave this place, ...  Disneyland_California  \n",
       "2  Staff everywhere were just friendly, the custo...       Disneyland_Paris  \n",
       "3  It's Disneyland, what more is there to say?  W...  Disneyland_California  \n",
       "4  We visited this park at Halloween and enjoyed ...  Disneyland_California  "
      ]
     },
     "execution_count": 7,
     "metadata": {},
     "output_type": "execute_result"
    }
   ],
   "source": [
    "import pandas as pd\n",
    "\n",
    "# Load and take subset of the dataset\n",
    "df = pd.read_csv(\"train.csv\")[:5000]\n",
    "df.head()"
   ]
  },
  {
   "cell_type": "code",
   "execution_count": 8,
   "id": "b7e2a7aaded336c1",
   "metadata": {
    "collapsed": false
   },
   "outputs": [
    {
     "data": {
      "text/plain": [
       "Rating\n",
       "5    2662\n",
       "4    1274\n",
       "3     610\n",
       "2     260\n",
       "1     194\n",
       "Name: count, dtype: int64"
      ]
     },
     "execution_count": 8,
     "metadata": {},
     "output_type": "execute_result"
    }
   ],
   "source": [
    "# Count each deffrent values of rating\n",
    "df['Rating'].value_counts()"
   ]
  },
  {
   "cell_type": "code",
   "execution_count": 9,
   "id": "e239d6e2169b3309",
   "metadata": {
    "collapsed": false
   },
   "outputs": [],
   "source": [
    "# Get reviews\n",
    "reviews = df[\"Review_Text\"].values.tolist()"
   ]
  },
  {
   "cell_type": "code",
   "execution_count": 11,
   "id": "397ed653",
   "metadata": {},
   "outputs": [
    {
     "data": {
      "text/plain": [
       "['Truly the most magical place on the West Coast. This is my second trip to disneyland. I absolutely love this place great for adults, kids, couples, and family. Highly recommended.',\n",
       " \"I cry every time we have to leave this place, so much love and magic is in the Disneyland Resort. It's one of those places you'd never get bored in...it's spectacular. It's one of the only places I feel like a kid again..and I think everyone should come here once.\",\n",
       " \"Staff everywhere were just friendly, the customer service is just top notch everywhere!It does help to speak French but there's lots of staff who are multilingual so we spoke Italian and German a few times!One of the best presents I bought my partner and she loved it all over!\",\n",
       " \"It's Disneyland, what more is there to say?  Walt's park opened in 1955 and has been delighting guests for 60 years now.  So many great rides and so much fun to be had.\",\n",
       " \"We visited this park at Halloween and enjoyed the Halloween parade and trick or treating.It was really busy but the queues for things weren't that long and some of the rides were actually better in the dark.We were able to see most characters in the park although there were long waits for a few like the princesses.Everyone here was really friendly, even the people in costumes were happy to talk, it didn't feel rushed at all.I suggest getting the app so you can see the ride times and the character times, although the staff walking around are really helpful with this information. We got a photo pass but it really wasn't necessary if you have a decent camera as they are happy to take pictures with your own device.We didn't get any fast track passes, I'm glad we didn't because we didn't need them. The food wasn't great at all! That was the only down side. \"]"
      ]
     },
     "execution_count": 11,
     "metadata": {},
     "output_type": "execute_result"
    }
   ],
   "source": [
    "reviews[:5]"
   ]
  },
  {
   "cell_type": "markdown",
   "id": "f634a4191a83c5be",
   "metadata": {
    "collapsed": false
   },
   "source": [
    "Now we will creat an sequence of letter based on sentences\n",
    "\n",
    "For example:\n",
    "\n",
    "```\n",
    "aba decides a\n",
    "```\n",
    "\n",
    "will produce\n",
    "\n",
    "```\n",
    "[\n",
    "  ('a', 'b'),\n",
    "  ('b', 'a'),\n",
    "  ('a', ' '),\n",
    "  (' ', 'd'),\n",
    "  ('d', 'e'),\n",
    "  ('e', 'c'),\n",
    "  ('c', 'i'),\n",
    "  ('i', 'd'),\n",
    "  ('d', 'e'),\n",
    "  ('e', 's'),\n",
    "  ('s', ' '),\n",
    "  (' ', 'a'),\n",
    "]\n",
    "```"
   ]
  },
  {
   "cell_type": "markdown",
   "id": "79dde410",
   "metadata": {},
   "source": [
    "On prend deux lettres par deux au lieu de 1"
   ]
  },
  {
   "cell_type": "code",
   "execution_count": 43,
   "id": "8c2804b661785f58",
   "metadata": {
    "collapsed": false
   },
   "outputs": [
    {
     "name": "stdout",
     "output_type": "stream",
     "text": [
      "2694406\n"
     ]
    },
    {
     "data": {
      "text/plain": [
       "[('tr', 'u'), ('ru', 'l'), ('ul', 'y'), ('ly', 't'), ('yt', 'h')]"
      ]
     },
     "execution_count": 43,
     "metadata": {},
     "output_type": "execute_result"
    }
   ],
   "source": [
    "import itertools as it\n",
    "import re\n",
    "\n",
    "\n",
    "def sliding_window(txt):\n",
    "    for i in range(len(txt) - 2):\n",
    "        yield txt[i:i+2], txt[i + 2]\n",
    "\n",
    "\n",
    "window = []\n",
    "for title in reviews:\n",
    "    # Get only a to z and 0 to 9 letters and numerb\n",
    "    title = re.sub('[^a-zA-Z0-9]+', '', title.lower())\n",
    "    window.append(sliding_window(title))\n",
    "window = list(it.chain(*window))\n",
    "\n",
    "# Number of window\n",
    "print(len(window))\n",
    "# Get first 5 example\n",
    "window[:5]"
   ]
  },
  {
   "cell_type": "markdown",
   "id": "d7ee139e",
   "metadata": {},
   "source": [
    "On cherche a avoir avec le mapping {'u': 0, 'l': 1, 'y': 2, 't': 3, ..., 'r': 17, ...} \n",
    "un integers_in in de la forme [3, 17]\n",
    "et un integers_out de la forme 0"
   ]
  },
  {
   "cell_type": "code",
   "execution_count": 55,
   "id": "c6101347",
   "metadata": {},
   "outputs": [
    {
     "name": "stdout",
     "output_type": "stream",
     "text": [
      "Shape of input (2694406, 2)\n",
      "Input example in: [ 3 17] out:  0\n",
      "Show generate mapping\n",
      " {'u': 0, 'l': 1, 'y': 2, 't': 3, 'h': 4, 'e': 5, 'm': 6, 'o': 7, 's': 8, 'a': 9, 'g': 10, 'i': 11, 'c': 12, 'p': 13, 'n': 14, 'w': 15, 'd': 16, 'r': 17, 'b': 18, 'v': 19, 'f': 20, 'k': 21, 'j': 22, '1': 23, '9': 24, '5': 25, '6': 26, '0': 27, 'q': 28, '7': 29, '2': 30, 'x': 31, 'z': 32, '3': 33, '4': 34, '8': 35}\n"
     ]
    }
   ],
   "source": [
    "import numpy as np\n",
    "\n",
    "# get the first value\n",
    "mapping = {c: i for i, c in enumerate(pd.DataFrame(window)[1].unique())}\n",
    "\n",
    "integers_in = np.array([[mapping[w[0][0]], mapping[w[0][1]]] for w in window])\n",
    "integers_out = np.array([mapping[w[1]] for w in window])\n",
    "\n",
    "print(\"Shape of input\", integers_in.shape)\n",
    "print(\"Input example in:\", integers_in[0], \"out: \", integers_out[0])\n",
    "print(\"Show generate mapping\\n\", mapping)"
   ]
  },
  {
   "cell_type": "markdown",
   "id": "1f779327cd0196cc",
   "metadata": {
    "collapsed": false
   },
   "source": [
    "### The dataset class\n",
    "The dataset class summarizes the basic functionality of a dataset in a natural way. To define a dataset in PyTorch, we simply specify two functions: __getitem__, and __len__. The get-item function has to return the i-th data point in the dataset, while the len function returns the size of the dataset."
   ]
  },
  {
   "cell_type": "code",
   "execution_count": 97,
   "id": "f926f9dabe6b07fe",
   "metadata": {
    "collapsed": false
   },
   "outputs": [],
   "source": [
    "import torch.utils.data as data\n",
    "\n",
    "\n",
    "class NextLetterDataset(data.Dataset):\n",
    "\n",
    "    def __init__(self, integers_in, integers_out):\n",
    "        self.integers_in = integers_in\n",
    "        self.integers_out = integers_out\n",
    "\n",
    "    def __len__(self):\n",
    "        # Number of data pin dataset\n",
    "        return len(self.integers_in)\n",
    "\n",
    "    def __getitem__(self, idx):\n",
    "        # Return the idx-th data point of the dataset\n",
    "        # If we have multiple things to return (data point and label), we can return them as tuple\n",
    "        data_point = self.integers_in[idx]\n",
    "        data_label = self.integers_out[idx]\n",
    "        return torch.tensor(data_point), torch.tensor(data_label, dtype=torch.long)"
   ]
  },
  {
   "cell_type": "markdown",
   "id": "8a57ac7803b21667",
   "metadata": {
    "collapsed": false
   },
   "source": [
    "### Build first embedding model\n",
    "\n",
    "We will build a simple network to do next letter prediction\n",
    "\n",
    "![next letter](../asset/next_letter_prediction.png)"
   ]
  },
  {
   "cell_type": "markdown",
   "id": "2d5cca6d",
   "metadata": {},
   "source": [
    "On change le model pour qu'il prenne en compte les deux lettres -> embedding_size*2"
   ]
  },
  {
   "cell_type": "code",
   "execution_count": 105,
   "id": "8115c1c470321512",
   "metadata": {
    "collapsed": false
   },
   "outputs": [],
   "source": [
    "import torch.nn.functional as F\n",
    "\n",
    "\n",
    "class NextLetterPrediction(torch.nn.Module):\n",
    "    def __init__(self, vocab_size, embedding_size):\n",
    "        super(NextLetterPrediction, self).__init__()\n",
    "        self.embedding = torch.nn.Embedding(vocab_size, embedding_size)\n",
    "        # On multiplie l'embending par deux car on prend deux lettres (*3 si on prend 3 lettres)...\n",
    "        self.fc = torch.nn.Linear(embedding_size*2, vocab_size)\n",
    "\n",
    "    def forward(self, x):\n",
    "        x = F.relu(self.embedding(x))\n",
    "        x = torch.flatten(x, start_dim=1)\n",
    "        x = self.fc(x)\n",
    "        return x"
   ]
  },
  {
   "cell_type": "markdown",
   "id": "95ea191b7e45c59e",
   "metadata": {
    "collapsed": false
   },
   "source": [
    "### Plot letter before the train\n",
    "\n",
    "Let's plot letter embedding before to train the model"
   ]
  },
  {
   "cell_type": "code",
   "execution_count": 106,
   "id": "dff312a08c307874",
   "metadata": {
    "collapsed": false
   },
   "outputs": [],
   "source": [
    "model = NextLetterPrediction(vocab_size=len(mapping),\n",
    "                             # For X and Y plot\n",
    "                             embedding_size=2)"
   ]
  },
  {
   "cell_type": "code",
   "execution_count": 100,
   "id": "35d26f4694ee313",
   "metadata": {
    "collapsed": false
   },
   "outputs": [
    {
     "data": {
      "image/png": "[encoded data removed]",
      "text/plain": [
       "<Figure size 640x480 with 1 Axes>"
      ]
     },
     "metadata": {},
     "output_type": "display_data"
    }
   ],
   "source": [
    "import matplotlib.pylab as plt\n",
    "\n",
    "idx_to_calc = list(mapping.values())\n",
    "idx_to_calc = np.array([idx_to_calc]).T\n",
    "\n",
    "translator = {v: k for k, v in mapping.items()}\n",
    "preds = model.embedding(torch.tensor(idx_to_calc)).detach().numpy()\n",
    "plt.scatter(preds[:, 0, 0], preds[:, 0, 1], alpha=0)\n",
    "for i, idx in enumerate(idx_to_calc):\n",
    "    plt.text(preds[i, 0, 0], preds[i, 0, 1], translator[idx[0]])"
   ]
  },
  {
   "cell_type": "markdown",
   "id": "a8e9c4b621c62168",
   "metadata": {
    "collapsed": false
   },
   "source": [
    "### Train loop\n"
   ]
  },
  {
   "cell_type": "code",
   "execution_count": 101,
   "id": "63fdfddb974e19fc",
   "metadata": {
    "collapsed": false
   },
   "outputs": [],
   "source": [
    "# Init the dataset into the DataLoader\n",
    "dataset = NextLetterDataset(integers_in, integers_out)\n",
    "trainloader = data.DataLoader(dataset, batch_size=128, shuffle=True)\n",
    "\n",
    "# Define a loss function and optimizer\n",
    "criterion = nn.CrossEntropyLoss()\n",
    "optimizer = torch.optim.AdamW(model.parameters(), lr=0.01)"
   ]
  },
  {
   "cell_type": "code",
   "execution_count": 102,
   "id": "53ee061e0c27b2e1",
   "metadata": {
    "collapsed": false
   },
   "outputs": [
    {
     "name": "stdout",
     "output_type": "stream",
     "text": [
      "cuda\n",
      "[1,  2000] loss: 2.836\n",
      "[1,  4000] loss: 2.787\n",
      "[1,  6000] loss: 2.787\n",
      "[1,  8000] loss: 2.786\n",
      "[1, 10000] loss: 2.789\n",
      "[1, 12000] loss: 2.786\n",
      "[1, 14000] loss: 2.786\n",
      "[1, 16000] loss: 2.786\n",
      "[1, 18000] loss: 2.786\n",
      "[1, 20000] loss: 2.791\n",
      "Finished Training\n"
     ]
    }
   ],
   "source": [
    "epoches = 1\n",
    "\n",
    "device = torch.device(\"cuda\" if torch.cuda.is_available() else \"cpu\")\n",
    "print(device)\n",
    "# Load the model to cuda device in train mode\n",
    "model.to(device)\n",
    "model.train()\n",
    "# loop over the dataset multiple times\n",
    "for epoch in range(epoches):\n",
    "\n",
    "    running_loss = 0.0\n",
    "    for i, batch in enumerate(trainloader, 0):\n",
    "        # get the inputs; data is a list of [inputs, labels]\n",
    "        inputs, labels = batch\n",
    "        \n",
    "        inputs = inputs.to(device)\n",
    "        labels = labels.to(device)\n",
    "\n",
    "        # zero the parameter gradients\n",
    "        optimizer.zero_grad()\n",
    "\n",
    "        # forward + backward + optimize\n",
    "        outputs = model(inputs)\n",
    "        loss = criterion(outputs, labels)\n",
    "        loss.backward()\n",
    "        optimizer.step()\n",
    "\n",
    "        # print statistics\n",
    "        running_loss += loss.item()\n",
    "        if i % 2000 == 1999:  # print every 2000 mini-batches\n",
    "            print(f'[{epoch + 1}, {i + 1:5d}] loss: {running_loss / 2000:.3f}')\n",
    "            running_loss = 0.0\n",
    "\n",
    "print('Finished Training')"
   ]
  },
  {
   "cell_type": "code",
   "execution_count": 103,
   "id": "1092ac5af7839cb3",
   "metadata": {
    "collapsed": false
   },
   "outputs": [
    {
     "data": {
      "image/png": "[encoded data removed]",
      "text/plain": [
       "<Figure size 640x480 with 1 Axes>"
      ]
     },
     "metadata": {},
     "output_type": "display_data"
    }
   ],
   "source": [
    "idx_to_calc = list(mapping.values())\n",
    "idx_to_calc = np.array([idx_to_calc]).T\n",
    "\n",
    "translator = {v: k for k, v in mapping.items()}\n",
    "preds = model.embedding(torch.tensor(idx_to_calc).to(device)).cpu().detach().numpy()\n",
    "plt.scatter(preds[:, 0, 0], preds[:, 0, 1], alpha=0)\n",
    "for i, idx in enumerate(idx_to_calc):\n",
    "    plt.text(preds[i, 0, 0], preds[i, 0, 1], translator[idx[0]])"
   ]
  },
  {
   "cell_type": "code",
   "execution_count": 104,
   "id": "32ba8e58",
   "metadata": {},
   "outputs": [
    {
     "data": {
      "application/vnd.jupyter.widget-view+json": {
       "model_id": "9807dad500254550beac5c34ecef745a",
       "version_major": 2,
       "version_minor": 0
      },
      "text/plain": [
       "  0%|          | 0/21051 [00:00<?, ?it/s]"
      ]
     },
     "metadata": {},
     "output_type": "display_data"
    },
    {
     "name": "stderr",
     "output_type": "stream",
     "text": [
      "/home/rom/Documents/MATH904/env/lib/python3.11/site-packages/sklearn/metrics/_classification.py:1497: UndefinedMetricWarning: Precision is ill-defined and being set to 0.0 in labels with no predicted samples. Use `zero_division` parameter to control this behavior.\n",
      "  _warn_prf(average, modifier, f\"{metric.capitalize()} is\", len(result))\n",
      "/home/rom/Documents/MATH904/env/lib/python3.11/site-packages/sklearn/metrics/_classification.py:1497: UndefinedMetricWarning: Precision is ill-defined and being set to 0.0 in labels with no predicted samples. Use `zero_division` parameter to control this behavior.\n",
      "  _warn_prf(average, modifier, f\"{metric.capitalize()} is\", len(result))\n"
     ]
    },
    {
     "name": "stdout",
     "output_type": "stream",
     "text": [
      "              precision    recall  f1-score   support\n",
      "\n",
      "           0       0.00      0.00      0.00     78534\n",
      "           1       0.01      0.00      0.00    108778\n",
      "           2       0.00      0.00      0.00     68856\n",
      "           3       0.11      0.61      0.19    248345\n",
      "           4       0.00      0.00      0.00    126657\n",
      "           5       0.24      0.53      0.33    333179\n",
      "           6       0.00      0.00      0.00     57238\n",
      "           7       0.00      0.00      0.00    198014\n",
      "           8       0.00      0.00      0.00    173233\n",
      "           9       0.00      0.00      0.00    232354\n",
      "          10       0.00      0.00      0.00     53525\n",
      "          11       0.00      0.00      0.00    186092\n",
      "          12       0.00      0.00      0.00     62302\n",
      "          13       0.00      0.00      0.00     54340\n",
      "          14       0.22      0.32      0.26    178736\n",
      "          15       0.00      0.00      0.00     68642\n",
      "          16       0.00      0.00      0.00    121492\n",
      "          17       0.21      0.42      0.28    159664\n",
      "          18       0.00      0.00      0.00     35019\n",
      "          19       0.00      0.00      0.00     29512\n",
      "          20       0.00      0.00      0.00     55957\n",
      "          21       0.00      0.00      0.00     29541\n",
      "          22       0.00      0.00      0.00      4785\n",
      "          23       0.00      0.00      0.00      3262\n",
      "          24       0.00      0.00      0.00       744\n",
      "          25       0.00      0.00      0.00      2060\n",
      "          26       0.00      0.00      0.00       783\n",
      "          27       0.00      0.00      0.00      3916\n",
      "          28       0.00      0.00      0.00      3622\n",
      "          29       0.00      0.00      0.00       603\n",
      "          30       0.00      0.00      0.00      2592\n",
      "          31       0.00      0.00      0.00      5541\n",
      "          32       0.00      0.00      0.00      2402\n",
      "          33       0.00      0.00      0.00      2070\n",
      "          34       0.00      0.00      0.00      1386\n",
      "          35       0.00      0.00      0.00       630\n",
      "\n",
      "    accuracy                           0.17   2694406\n",
      "   macro avg       0.02      0.05      0.03   2694406\n",
      "weighted avg       0.07      0.17      0.09   2694406\n",
      "\n"
     ]
    },
    {
     "name": "stderr",
     "output_type": "stream",
     "text": [
      "/home/rom/Documents/MATH904/env/lib/python3.11/site-packages/sklearn/metrics/_classification.py:1497: UndefinedMetricWarning: Precision is ill-defined and being set to 0.0 in labels with no predicted samples. Use `zero_division` parameter to control this behavior.\n",
      "  _warn_prf(average, modifier, f\"{metric.capitalize()} is\", len(result))\n"
     ]
    }
   ],
   "source": [
    "from sklearn.metrics import classification_report\n",
    "from tqdm.auto import tqdm\n",
    "\n",
    "# Set the model in evaluation mode\n",
    "model.eval()\n",
    "\n",
    "true_labels = []\n",
    "predictions = []\n",
    "\n",
    "# Disabling gradient calculation\n",
    "with torch.no_grad():\n",
    "    for data in tqdm(trainloader):\n",
    "        images, labels = data\n",
    "\n",
    "        # Send inputs to the device\n",
    "        images = images.to(device)\n",
    "        labels = labels.to(device)\n",
    "\n",
    "        # Forward pass\n",
    "        outputs = model(images)\n",
    "        predicted = torch.argmax(outputs.data, 1)\n",
    "        # Store results\n",
    "        true_labels.extend(labels.cpu().numpy())\n",
    "        predictions.extend(predicted.cpu().numpy())\n",
    "\n",
    "# Generate classification report\n",
    "report = classification_report(true_labels, predictions)\n",
    "print(report)"
   ]
  }
 ],
 "metadata": {
  "kernelspec": {
   "display_name": "Python 3",
   "language": "python",
   "name": "python3"
  },
  "language_info": {
   "codemirror_mode": {
    "name": "ipython",
    "version": 3
   },
   "file_extension": ".py",
   "mimetype": "text/x-python",
   "name": "python",
   "nbconvert_exporter": "python",
   "pygments_lexer": "ipython3",
   "version": "3.11.6"
  }
 },
 "nbformat": 4,
 "nbformat_minor": 5
}
